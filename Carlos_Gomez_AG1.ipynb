{
  "nbformat": 4,
  "nbformat_minor": 0,
  "metadata": {
    "colab": {
      "name": "Carlos Gomez - AG1.ipynb",
      "provenance": [],
      "toc_visible": true,
      "authorship_tag": "ABX9TyMds/h+vXYdu6RRCJHpmj57",
      "include_colab_link": true
    },
    "kernelspec": {
      "name": "python3",
      "display_name": "Python 3"
    }
  },
  "cells": [
    {
      "cell_type": "markdown",
      "metadata": {
        "id": "view-in-github",
        "colab_type": "text"
      },
      "source": [
        "<a href=\"https://colab.research.google.com/github/carlosgomezrobles96/03MAIR-Algoritmos-de-Optimizacion/blob/main/Carlos_Gomez_AG1.ipynb\" target=\"_parent\"><img src=\"https://colab.research.google.com/assets/colab-badge.svg\" alt=\"Open In Colab\"/></a>"
      ]
    },
    {
      "cell_type": "markdown",
      "metadata": {
        "id": "3MPpqrYvkaEU"
      },
      "source": [
        "#Algoritmos de Optimización - Actividad Guiada 1 <br>\r\n",
        "Nombre: Carlos Gómez <br>\r\n",
        "URL: [https://colab.research.google.com/drive/17OA0Tfd4aZr7floIwSwNrgpT1lhse5Gk?usp=sharing](https://colab.research.google.com/drive/17OA0Tfd4aZr7floIwSwNrgpT1lhse5Gk?usp=sharing) <br>\r\n",
        "Github: [https://github.com/carlosgomezrobles96/03MAIR-Algoritmos-de-Optimizacion](https://github.com/carlosgomezrobles96/03MAIR-Algoritmos-de-Optimizacion)\r\n",
        "\r\n"
      ]
    },
    {
      "cell_type": "markdown",
      "metadata": {
        "id": "uADEm8uHkZhX"
      },
      "source": [
        "### Torres de Hanoi con Divide y Vencerás"
      ]
    },
    {
      "cell_type": "code",
      "metadata": {
        "id": "8HF0ztKHpLdT"
      },
      "source": [
        "# N es la cantidad de fichas de a torre\r\n",
        "def torres_hanoi(N, desde, hasta):\r\n",
        "  if N==1:\r\n",
        "    print(\"Llevar la ficha desde la torre \" + str(desde) + \" hasta la torre \" + str(hasta))\r\n",
        "  else:\r\n",
        "    torres_hanoi(N-1, desde, list({1,2,3}-{desde,hasta})[0])\r\n",
        "    print(\"Llevar la ficha desde la torre \" + str(desde) + \" hasta la torre \" + str(hasta))\r\n",
        "    torres_hanoi(N-1, list({1,2,3}-{desde,hasta})[0], hasta)"
      ],
      "execution_count": null,
      "outputs": []
    },
    {
      "cell_type": "code",
      "metadata": {
        "colab": {
          "base_uri": "https://localhost:8080/"
        },
        "id": "C8sonDvEqZ78",
        "outputId": "1bf17439-8ff6-4951-bb12-51eb7a6f7f7c"
      },
      "source": [
        "torres_hanoi(1,1,3)"
      ],
      "execution_count": null,
      "outputs": [
        {
          "output_type": "stream",
          "text": [
            "Llevar la ficha desde la torre 1 hasta la torre 3\n"
          ],
          "name": "stdout"
        }
      ]
    },
    {
      "cell_type": "code",
      "metadata": {
        "colab": {
          "base_uri": "https://localhost:8080/"
        },
        "id": "JBFes0s4sbq2",
        "outputId": "ae7d56ac-3a77-4066-9714-3d5d57161a4a"
      },
      "source": [
        "torres_hanoi(2,1,3)"
      ],
      "execution_count": null,
      "outputs": [
        {
          "output_type": "stream",
          "text": [
            "Llevar la ficha desde la torre 1 hasta la torre 2\n",
            "Llevar la ficha desde la torre 1 hasta la torre 3\n",
            "Llevar la ficha desde la torre 2 hasta la torre 3\n"
          ],
          "name": "stdout"
        }
      ]
    },
    {
      "cell_type": "code",
      "metadata": {
        "colab": {
          "base_uri": "https://localhost:8080/"
        },
        "id": "LxNm9ieXsnIS",
        "outputId": "1fe5da5a-cf2a-4c2c-aae3-2ca3a921ba85"
      },
      "source": [
        "torres_hanoi(4,1,3)"
      ],
      "execution_count": null,
      "outputs": [
        {
          "output_type": "stream",
          "text": [
            "Llevar la ficha desde la torre 1 hasta la torre 2\n",
            "Llevar la ficha desde la torre 1 hasta la torre 3\n",
            "Llevar la ficha desde la torre 2 hasta la torre 3\n",
            "Llevar la ficha desde la torre 1 hasta la torre 2\n",
            "Llevar la ficha desde la torre 3 hasta la torre 1\n",
            "Llevar la ficha desde la torre 3 hasta la torre 2\n",
            "Llevar la ficha desde la torre 1 hasta la torre 2\n",
            "Llevar la ficha desde la torre 1 hasta la torre 3\n",
            "Llevar la ficha desde la torre 2 hasta la torre 3\n",
            "Llevar la ficha desde la torre 2 hasta la torre 1\n",
            "Llevar la ficha desde la torre 3 hasta la torre 1\n",
            "Llevar la ficha desde la torre 2 hasta la torre 3\n",
            "Llevar la ficha desde la torre 1 hasta la torre 2\n",
            "Llevar la ficha desde la torre 1 hasta la torre 3\n",
            "Llevar la ficha desde la torre 2 hasta la torre 3\n"
          ],
          "name": "stdout"
        }
      ]
    },
    {
      "cell_type": "markdown",
      "metadata": {
        "id": "lSDvmz1Ev-TY"
      },
      "source": [
        "### Cambio de monedas con Técnica Voraz"
      ]
    },
    {
      "cell_type": "code",
      "metadata": {
        "id": "ogqf0eT1wGdi"
      },
      "source": [
        "def cambio_monedas(cambio, sistemaMonetario):\r\n",
        "  solucion = [0]*len(sistemaMonetario) # Inicializacion de un array con el numero de elementos que tenga sistema monetario al valor 0\r\n",
        "  valorAcumulado = 0\r\n",
        "\r\n",
        "  for i,m in enumerate(sistemaMonetario):\r\n",
        "    numeroMonedas = (cambio - valorAcumulado)//m\r\n",
        "    solucion[i] = numeroMonedas\r\n",
        "    valorAcumulado = valorAcumulado + numeroMonedas*m\r\n",
        "  return solucion"
      ],
      "execution_count": null,
      "outputs": []
    },
    {
      "cell_type": "code",
      "metadata": {
        "colab": {
          "base_uri": "https://localhost:8080/"
        },
        "id": "uTfNxTpsy49b",
        "outputId": "ed17e118-272a-475e-8e32-7eab77bca0a2"
      },
      "source": [
        "sistemaMonetario = [25,10,5,1]\r\n",
        "print(cambio_monedas(124,sistemaMonetario))"
      ],
      "execution_count": null,
      "outputs": [
        {
          "output_type": "stream",
          "text": [
            "[4, 2, 0, 4]\n"
          ],
          "name": "stdout"
        }
      ]
    },
    {
      "cell_type": "code",
      "metadata": {
        "colab": {
          "base_uri": "https://localhost:8080/"
        },
        "id": "H9_prwXyzK8Y",
        "outputId": "38621b12-2e7c-4d7e-8925-879a673ef109"
      },
      "source": [
        "sistemaMonetario = [25,10,5,1]\r\n",
        "print(cambio_monedas(50,sistemaMonetario))"
      ],
      "execution_count": null,
      "outputs": [
        {
          "output_type": "stream",
          "text": [
            "[2, 0, 0, 0]\n"
          ],
          "name": "stdout"
        }
      ]
    },
    {
      "cell_type": "code",
      "metadata": {
        "colab": {
          "base_uri": "https://localhost:8080/"
        },
        "id": "ax68OZyuzNT4",
        "outputId": "4ead6e3f-bd49-40da-a400-9a2a4db997f6"
      },
      "source": [
        "sistemaMonetario = [25,10,5,1]\r\n",
        "print(cambio_monedas(137,sistemaMonetario))"
      ],
      "execution_count": null,
      "outputs": [
        {
          "output_type": "stream",
          "text": [
            "[5, 1, 0, 2]\n"
          ],
          "name": "stdout"
        }
      ]
    },
    {
      "cell_type": "code",
      "metadata": {
        "colab": {
          "base_uri": "https://localhost:8080/"
        },
        "id": "RzgKH6pY0IPB",
        "outputId": "9fc902da-915b-4bf3-a392-0598092bc0c9"
      },
      "source": [
        "sistemaMonetario = [11,5,1]\r\n",
        "print(cambio_monedas(15,sistemaMonetario))"
      ],
      "execution_count": null,
      "outputs": [
        {
          "output_type": "stream",
          "text": [
            "[1, 0, 4]\n"
          ],
          "name": "stdout"
        }
      ]
    },
    {
      "cell_type": "markdown",
      "metadata": {
        "id": "MVyNwLI-0VIX"
      },
      "source": [
        "En este útimo caso, el cambio realizado no es el más óptimo que se pueda realizar, pero si seguimos la técnica voraz es la forma de resolver el problema del cambio. Para obtener otros resultados habría que utilizar otras técnicas que nos permitan comprobar otras combinaciones."
      ]
    },
    {
      "cell_type": "markdown",
      "metadata": {
        "id": "eC82S-Rm1SvB"
      },
      "source": [
        "### Cuatro reinas con Backtracking"
      ]
    },
    {
      "cell_type": "code",
      "metadata": {
        "id": "F-ejZkFs88Le"
      },
      "source": [
        "def escribe(S):\r\n",
        "  n = len(S)\r\n",
        "  for x in range(n):\r\n",
        "    print(\"\")\r\n",
        "    for i in range(n):\r\n",
        "      if S[i] == x+1:\r\n",
        "        print(\" X \", end=\"\")\r\n",
        "      else:\r\n",
        "        print(\" - \", end=\"\")"
      ],
      "execution_count": null,
      "outputs": []
    },
    {
      "cell_type": "code",
      "metadata": {
        "id": "EWzZHNfN5Ewp"
      },
      "source": [
        "def es_prometedora(solucion, etapa):\r\n",
        "  for i in range(etapa+1):\r\n",
        "    if solucion.count(solucion[i]) > 1:\r\n",
        "      return False\r\n",
        "    for j in range(i+1,etapa+1):\r\n",
        "      if abs(i-j)==abs(solucion[i]-solucion[j]):\r\n",
        "        return False\r\n",
        "  return True"
      ],
      "execution_count": null,
      "outputs": []
    },
    {
      "cell_type": "code",
      "metadata": {
        "id": "SZjANjg91X4F"
      },
      "source": [
        "def reinas(numReinas, solucion=[], etapa=0):\r\n",
        "  if len(solucion)==0:\r\n",
        "    solucion = [0 for i in range(numReinas)]\r\n",
        "\r\n",
        "  for i in range(1, numReinas+1):\r\n",
        "    solucion[etapa]=i\r\n",
        "\r\n",
        "    if es_prometedora(solucion, etapa):\r\n",
        "      if etapa==numReinas-1:\r\n",
        "        print(\"\\nLa solución es: \")\r\n",
        "        print(solucion)\r\n",
        "        escribe(solucion)\r\n",
        "      else:\r\n",
        "        reinas(numReinas, solucion, etapa+1)\r\n",
        "    else:\r\n",
        "      None\r\n",
        "    solucion[etapa]=0"
      ],
      "execution_count": null,
      "outputs": []
    },
    {
      "cell_type": "code",
      "metadata": {
        "colab": {
          "base_uri": "https://localhost:8080/"
        },
        "id": "PSg7Kmp06nxP",
        "outputId": "8c9a5eea-add7-4d07-8e16-8f4c5e59e4bc"
      },
      "source": [
        "reinas(4)"
      ],
      "execution_count": null,
      "outputs": [
        {
          "output_type": "stream",
          "text": [
            "\n",
            "La solución es: \n",
            "[2, 4, 1, 3]\n",
            "\n",
            " -  -  X  - \n",
            " X  -  -  - \n",
            " -  -  -  X \n",
            " -  X  -  - \n",
            "La solución es: \n",
            "[3, 1, 4, 2]\n",
            "\n",
            " -  X  -  - \n",
            " -  -  -  X \n",
            " X  -  -  - \n",
            " -  -  X  - "
          ],
          "name": "stdout"
        }
      ]
    },
    {
      "cell_type": "code",
      "metadata": {
        "colab": {
          "base_uri": "https://localhost:8080/"
        },
        "id": "zGg-A0Y-83Bm",
        "outputId": "ad7ccb3c-880e-4fe7-9179-3f958e7ae11e"
      },
      "source": [
        "reinas(6)"
      ],
      "execution_count": null,
      "outputs": [
        {
          "output_type": "stream",
          "text": [
            "\n",
            "La solución es: \n",
            "[2, 4, 6, 1, 3, 5]\n",
            "\n",
            " -  -  -  X  -  - \n",
            " X  -  -  -  -  - \n",
            " -  -  -  -  X  - \n",
            " -  X  -  -  -  - \n",
            " -  -  -  -  -  X \n",
            " -  -  X  -  -  - \n",
            "La solución es: \n",
            "[3, 6, 2, 5, 1, 4]\n",
            "\n",
            " -  -  -  -  X  - \n",
            " -  -  X  -  -  - \n",
            " X  -  -  -  -  - \n",
            " -  -  -  -  -  X \n",
            " -  -  -  X  -  - \n",
            " -  X  -  -  -  - \n",
            "La solución es: \n",
            "[4, 1, 5, 2, 6, 3]\n",
            "\n",
            " -  X  -  -  -  - \n",
            " -  -  -  X  -  - \n",
            " -  -  -  -  -  X \n",
            " X  -  -  -  -  - \n",
            " -  -  X  -  -  - \n",
            " -  -  -  -  X  - \n",
            "La solución es: \n",
            "[5, 3, 1, 6, 4, 2]\n",
            "\n",
            " -  -  X  -  -  - \n",
            " -  -  -  -  -  X \n",
            " -  X  -  -  -  - \n",
            " -  -  -  -  X  - \n",
            " X  -  -  -  -  - \n",
            " -  -  -  X  -  - "
          ],
          "name": "stdout"
        }
      ]
    }
  ]
}