{
  "nbformat": 4,
  "nbformat_minor": 0,
  "metadata": {
    "colab": {
      "name": "Carlos_Gomez_Seminario.ipynb",
      "provenance": [],
      "collapsed_sections": [
        "E5GA7I49XbvC",
        "RxYRD9nPXkKS",
        "OCmf8qO2Xnfi",
        "6PbjCJ6TXqjq",
        "aSA9C9cTXtxL",
        "RDUW9eRmXz27",
        "kwVkonC1X3MS",
        "3Pk-YdvXYBlS"
      ],
      "include_colab_link": true
    },
    "kernelspec": {
      "name": "python3",
      "display_name": "Python 3"
    }
  },
  "cells": [
    {
      "cell_type": "markdown",
      "metadata": {
        "id": "view-in-github",
        "colab_type": "text"
      },
      "source": [
        "<a href=\"https://colab.research.google.com/github/carlosgomezrobles96/03MAIR-Algoritmos-de-Optimizacion/blob/main/Carlos_Gomez_Seminario.ipynb\" target=\"_parent\"><img src=\"https://colab.research.google.com/assets/colab-badge.svg\" alt=\"Open In Colab\"/></a>"
      ]
    },
    {
      "cell_type": "markdown",
      "metadata": {
        "id": "hVbXYX-RfPWh"
      },
      "source": [
        "# Algoritmos de optimización - Seminario<br>\n",
        "Nombre y Apellidos:  Carlos Gómez Robles\n",
        "\n",
        "URL: [https://colab.research.google.com/drive/1o1OqGd6ur-cRRNMK8NEkFbajaUyqYGyH?usp=sharing](https://colab.research.google.com/drive/1o1OqGd6ur-cRRNMK8NEkFbajaUyqYGyH?usp=sharing)\n",
        "\n",
        "Github:[https://github.com/carlosgomezrobles96/03MAIR-Algoritmos-de-Optimizacion](https://github.com/carlosgomezrobles96/03MAIR-Algoritmos-de-Optimizacion)\n",
        "\n",
        "<br>\n",
        "<br>\n",
        "\n",
        "**Problema:**\n",
        "\n",
        ">**3. Combinar cifras y operaciones**\n",
        "\n",
        "**Descripción del problema:**\n",
        "\n",
        "- El problema consiste en analizar el siguiente problema y diseñar un algoritmo que lo resuelva\n",
        "- Disponemos de las 9 cifras del 1 al 9 (excluimos el cero) y de los 4 signos básicos de las\n",
        "operaciones fundamentales: suma(+), resta(-), multiplicación(*) y división(/)\n",
        "\n",
        "- Debemos combinarlos alternativamente sin repetir ninguno de ellos para obtener una cantidad dada.\n",
        "\n",
        "\n",
        "\n",
        "\n",
        "\n",
        "                                        "
      ]
    },
    {
      "cell_type": "markdown",
      "metadata": {
        "id": "E5GA7I49XbvC"
      },
      "source": [
        "### **Ejercicio 1**"
      ]
    },
    {
      "cell_type": "markdown",
      "metadata": {
        "id": "3_-exlrTgLd-"
      },
      "source": [
        "1.1. ¿Cuantas posibilidades hay sin tener en cuenta las restricciones?(*)\n",
        "\n",
        "\n",
        "\n",
        "1.2. ¿Cuantas posibilidades hay teniendo en cuenta todas las restricciones?\n",
        "\n",
        "\n"
      ]
    },
    {
      "cell_type": "markdown",
      "metadata": {
        "id": "WfCUqJyKhPcw"
      },
      "source": [
        "***Respuesta 1.1.***"
      ]
    },
    {
      "cell_type": "markdown",
      "metadata": {
        "id": "BHMueDzBbwnr"
      },
      "source": [
        "Si no se tuvieran en cuenta las restricciones planteadas en el enunciado, el número de posibilidades son un total de **15.116.544**. \r\n",
        "\r\n",
        "Esta cifra se obtiene de la siguiente operación: $(9^5)*(4^4)$\r\n",
        "\r\n",
        "Tenemos la posibilidad de utilizar **9 cifras** distribuidas en **5 posiciones** y **4 operaciones** distribuidas en **4 posiciones** si se pudieran repetir tanto las cifras como las operaciones."
      ]
    },
    {
      "cell_type": "markdown",
      "metadata": {
        "id": "7ku-vWccdkvD"
      },
      "source": [
        "***Respuesta 1.2.***"
      ]
    },
    {
      "cell_type": "markdown",
      "metadata": {
        "id": "kIHVefkBdwPN"
      },
      "source": [
        "Teniendo en cuenta las restricciones, el número de posibilidades totales disminuyen a un total de **362.880**.\r\n",
        "\r\n",
        "Esta cifra se obtiene de la siguiente operación: $9 * 8 * 7 * 6 * 5 * 4 * 3 * 2 * 1 = 9! $\r\n",
        "\r\n",
        "Teniendo en cuenta las restricciones, podremos utilizar 9 cifras en una posición, 8 en otra, 7 en otra, 6 en otra y 5 en otra (para conseguir la no repetición de las cifras). A eso hay que multiplicarle el número de veces que podemos utilizar los 4 operadores, que serían 4 en una posición, 3 en otra, 2 en otra y 1 en otra. Por lo que obtenemos la operación de arriba que corresponde con el factorial de 9."
      ]
    },
    {
      "cell_type": "markdown",
      "metadata": {
        "id": "RxYRD9nPXkKS"
      },
      "source": [
        "### **Ejercicio 2**"
      ]
    },
    {
      "cell_type": "markdown",
      "metadata": {
        "id": "dzynfVJahHoY"
      },
      "source": [
        "¿Cual es la estructura de datos que mejor se adapta al problema? Argumentalo.(Es posible que hayas elegido una al principio y veas la necesidad de cambiar, arguentalo)(*)\n"
      ]
    },
    {
      "cell_type": "markdown",
      "metadata": {
        "id": "xFIJrOwKi2Ti"
      },
      "source": [
        "***Respuesta 2***"
      ]
    },
    {
      "cell_type": "markdown",
      "metadata": {
        "id": "Ssz9s0dQmevD"
      },
      "source": [
        "La mejor estructura de datos para utilizar en el problema creo que sería la lista, utilizando dos listas, una para los números y otra para las operaciones de la siguiente manera:\r\n",
        "\r\n",
        "NUM = $[1,2,3,4,5,6,7,8,9]$\r\n",
        "\r\n",
        "OP = $['+','-','*','/']$\r\n",
        "\r\n",
        "Para almacenar la solución se utilizará otra lista que almacene los numeros usados, los operadores y la expresión a calcular (así se podrá utilizar la función eval de python de un forma sencilla). Se ha utilizado la lista porque permiten almacenar cualquier tipo de valor como enteros, cadenas y otras listas que es lo que mejor se adapta a este problema. Esta lista quedaría de la siguiente manera:\r\n",
        "\r\n",
        "SOL = $[[3,7],['+'],'3*7']$"
      ]
    },
    {
      "cell_type": "markdown",
      "metadata": {
        "id": "OCmf8qO2Xnfi"
      },
      "source": [
        "### **Ejercicio 3**"
      ]
    },
    {
      "cell_type": "markdown",
      "metadata": {
        "id": "7Z9U2W7bi-XS"
      },
      "source": [
        "3.1. ¿Cual es la función objetivo?(*)\n",
        "\n",
        "3.2. ¿Es un problema de maximización o minimización?(*)"
      ]
    },
    {
      "cell_type": "markdown",
      "metadata": {
        "id": "hBalWLM7j1_d"
      },
      "source": [
        "***Respuesta 3.1***"
      ]
    },
    {
      "cell_type": "markdown",
      "metadata": {
        "id": "OW7vPDT9whs4"
      },
      "source": [
        "Definimos la función objetivo $f(x)$ como la distancia del valor objetivo **n** (el valor que se desea alcanzar) al valor calculado **k** \r\n",
        "\r\n",
        "De tal manera que la función objetivo quedaría de la siguiente forma $f(x)=|n-k|$"
      ]
    },
    {
      "cell_type": "markdown",
      "metadata": {
        "id": "zOQyt5m0xgOw"
      },
      "source": [
        "***Respuesta 3.2***"
      ]
    },
    {
      "cell_type": "markdown",
      "metadata": {
        "id": "LTkOIge7xlko"
      },
      "source": [
        "Una vez definida la función objetivo podemos asegurar que se trata de un problema de **minimización** puesto que cuanto más se aproxime a 0 el valor de la función objetivo, mejor será nuestra solución."
      ]
    },
    {
      "cell_type": "markdown",
      "metadata": {
        "id": "6PbjCJ6TXqjq"
      },
      "source": [
        "### **Ejercicio 4**"
      ]
    },
    {
      "cell_type": "markdown",
      "metadata": {
        "id": "rlnTYgY1j6I2"
      },
      "source": [
        "Diseña un algoritmo para resolver el problema por fuerza bruta"
      ]
    },
    {
      "cell_type": "markdown",
      "metadata": {
        "id": "70rDgxYXkC8r"
      },
      "source": [
        "***Respuesta***"
      ]
    },
    {
      "cell_type": "markdown",
      "metadata": {
        "id": "a9ES9Gg0Zq5Q"
      },
      "source": [
        "El algoritmo por fuerza bruta debe recorrer todo el árbol de posibilidades hasta encontrar una solución o hasta que no existan más opciones posibles."
      ]
    },
    {
      "cell_type": "code",
      "metadata": {
        "id": "omsDDiUayyrW"
      },
      "source": [
        "from time import time"
      ],
      "execution_count": null,
      "outputs": []
    },
    {
      "cell_type": "code",
      "metadata": {
        "id": "pB9_9E-gy52H"
      },
      "source": [
        "# Función para calcular el tiempo de ejecución del algoritmo\r\n",
        "def calculate_time_execution(f):\r\n",
        "  def wrapper(*args, **kwags):\r\n",
        "    init = time()\r\n",
        "    result = f(*args, **kwags)\r\n",
        "    t = time() - init\r\n",
        "    print(\"El algoritmo ha tardado en ejecutarse: \"+str(t))\r\n",
        "    return result\r\n",
        "  return wrapper"
      ],
      "execution_count": null,
      "outputs": []
    },
    {
      "cell_type": "code",
      "metadata": {
        "id": "OAF9KQCWzlB5"
      },
      "source": [
        "# Algoritmo por fuerza bruta\r\n",
        "@calculate_time_execution\r\n",
        "def brute_force(objetive):\r\n",
        "  num =  [1,2,3,4,5,6,7,8,9]\r\n",
        "  op =  ['+','-','*','/']\r\n",
        "  sol =  [[],[],'']\r\n",
        "  for n1 in num:\r\n",
        "    for o1 in op:\r\n",
        "      for n2 in num:\r\n",
        "        if n1!=n2:\r\n",
        "          for o2 in op:\r\n",
        "            if o1!=o2:\r\n",
        "              for n3 in num:\r\n",
        "                if n3!=n1 and n3!=n2:\r\n",
        "                  for o3 in op:\r\n",
        "                    if o3!=o1 and o3!=o2:\r\n",
        "                      for n4 in num:\r\n",
        "                        if n4!=n3 and n4!=n2 and n4!=n1:\r\n",
        "                          for o4 in op:\r\n",
        "                            if o4!=o3 and o4!=o2 and o4!=o1:\r\n",
        "                              for n5 in num:\r\n",
        "                                if n5!=n4 and n5!=n3 and n5!=n2 and n5!=n1:\r\n",
        "                                  form = str(n1)+o1+str(n2)+o2+str(n3)+o3+str(n4)+o4+str(n5)\r\n",
        "                                  if(eval(form)==objetive):\r\n",
        "                                    sol_num = [n1,n2,n3,n4,n5]\r\n",
        "                                    sol_op = [o1,o2,o3,o4]\r\n",
        "                                    sol[0].append(sol_num)\r\n",
        "                                    sol[1].append(sol_op)\r\n",
        "                                    sol[2] = form\r\n",
        "                                    return sol[2]\r\n",
        "  print(\"No se ha encontrado solución para conseguir el número\")"
      ],
      "execution_count": null,
      "outputs": []
    },
    {
      "cell_type": "code",
      "metadata": {
        "colab": {
          "base_uri": "https://localhost:8080/"
        },
        "id": "BsQJ8oTY4q3Y",
        "outputId": "e5eab127-cabe-467e-b2d8-c7bff882f615"
      },
      "source": [
        "objetive = 4\r\n",
        "sol = brute_force(objetive)\r\n",
        "print(\"Valor objetivo: %d\" % objetive)\r\n",
        "print(\"Formula para conseguir el valor: \"+sol)"
      ],
      "execution_count": null,
      "outputs": [
        {
          "output_type": "stream",
          "text": [
            "El algoritmo ha tardado en ejecutarse: 0.021592378616333008\n",
            "Valor objetivo: 4\n",
            "Formula para conseguir el valor: 1+3*8/2-9\n"
          ],
          "name": "stdout"
        }
      ]
    },
    {
      "cell_type": "markdown",
      "metadata": {
        "id": "aSA9C9cTXtxL"
      },
      "source": [
        "### **Ejercicio 5**"
      ]
    },
    {
      "cell_type": "markdown",
      "metadata": {
        "id": "tgrnsC2nkFa8"
      },
      "source": [
        "Calcula la complejidad del algoritmo por fuerza bruta"
      ]
    },
    {
      "cell_type": "markdown",
      "metadata": {
        "id": "9eUd3xwckP68"
      },
      "source": [
        "***Respuesta***"
      ]
    },
    {
      "cell_type": "markdown",
      "metadata": {
        "id": "E3RWQGgs6_rn"
      },
      "source": [
        "Para calcular la complejidad de este algoritmo por fuerza bruta consideramos que $n$ es el número de operadores, siendo así $n+1$ el número de dígitos.\r\n",
        "El número total de veces que se ejecutaría el algoritmo en el peor de los casos sería  $\\frac{9!}{(9-n)!}\\cdot n!$ veces. Por tanto la complejidad de dicho algoritmo es del orden de $\\in O(n!)$"
      ]
    },
    {
      "cell_type": "markdown",
      "metadata": {
        "id": "RwHAM2pnXwla"
      },
      "source": [
        "### **Ejercicio 6**"
      ]
    },
    {
      "cell_type": "markdown",
      "metadata": {
        "id": "txbrmLmskReM"
      },
      "source": [
        "Diseña un algoritmo que mejore la complejidad del algortimo por fuerza bruta.<br> Argumenta porque crees que mejora el algoritmo por fuerza bruta (*)"
      ]
    },
    {
      "cell_type": "markdown",
      "metadata": {
        "id": "hLrVwt5QkZPD"
      },
      "source": [
        "***Respuesta***"
      ]
    },
    {
      "cell_type": "markdown",
      "metadata": {
        "id": "FYMKE9vvHBxQ"
      },
      "source": [
        "Se va a utilizar un algoritmo basado en búsqueda aleatoria en el que a partir de una solución inicial, se va seleccionando iterativamente una nueva solución, también aleatoria. \r\n",
        "\r\n",
        "Estos algortimos metaheurísticos nos proporcionan buenas soluciones pero sin garantías de determinar si es la solución óptima, adaptándose muy bien a la naturaleza de nuestro problema."
      ]
    },
    {
      "cell_type": "code",
      "metadata": {
        "id": "w8pcUBMQK2yP"
      },
      "source": [
        "import math\r\n",
        "import random"
      ],
      "execution_count": null,
      "outputs": []
    },
    {
      "cell_type": "code",
      "metadata": {
        "id": "QGgcMKxdLNUA"
      },
      "source": [
        "# Este método nos sirve para generar una solución aleatoria inicial\r\n",
        "def random_form():\r\n",
        "  num =  [1,2,3,4,5,6,7,8,9]\r\n",
        "  op =  ['+','-','*','/']\r\n",
        "  sol =  [[],[],'']\r\n",
        "  for _ in range(len(op)):\r\n",
        "    num_chosen = random.choice(num)\r\n",
        "    num.remove(num_chosen)\r\n",
        "    op_chosen = random.choice(op)\r\n",
        "    op.remove(op_chosen)\r\n",
        "    sol[0].append(num_chosen)\r\n",
        "    sol[1].append(op_chosen)\r\n",
        "    sol[2]+=str(num_chosen)\r\n",
        "    sol[2]+=op_chosen\r\n",
        "  num_chosen = random.choice(num)\r\n",
        "  sol[0].append(num_chosen)\r\n",
        "  sol[2]+=str(num_chosen)\r\n",
        "  current_value = eval(sol[2])\r\n",
        "  return sol[2], current_value"
      ],
      "execution_count": null,
      "outputs": []
    },
    {
      "cell_type": "code",
      "metadata": {
        "id": "S80ekem7AW1Q"
      },
      "source": [
        "# Algoritmo por búsqueda local\r\n",
        "@calculate_time_execution\r\n",
        "def random_search(objetive, num_iter):\r\n",
        "  min_dif = 99999999999\r\n",
        "  cont = 0\r\n",
        "  while cont<num_iter:\r\n",
        "    form, current_value = random_form()\r\n",
        "    if current_value == objetive:\r\n",
        "      min_dif = 0\r\n",
        "      best_sol = form\r\n",
        "      return best_sol, current_value, min_dif\r\n",
        "    else:\r\n",
        "      dif = objetive - current_value\r\n",
        "      current_dif = abs(dif)\r\n",
        "      if min_dif > current_dif:\r\n",
        "        best_sol = form\r\n",
        "        min_dif = current_dif\r\n",
        "      cont += 1\r\n",
        "  if cont == num_iter :\r\n",
        "    best_sol = 'None'\r\n",
        "    current_value = 0\r\n",
        "    min_dif = 0\r\n",
        "    print(\"No se ha encontrado solución para conseguir el número, si desea incremente el número de iteraciones\")\r\n",
        "    return best_sol, current_value, min_dif\r\n",
        "  else: \r\n",
        "    return best_sol, current_value, min_dif"
      ],
      "execution_count": 170,
      "outputs": []
    },
    {
      "cell_type": "code",
      "metadata": {
        "colab": {
          "base_uri": "https://localhost:8080/"
        },
        "id": "6_OZHYQQOHcZ",
        "outputId": "98669c92-b4a5-4556-869f-d5c42d475666"
      },
      "source": [
        "objetive = 4\r\n",
        "num_it = 5000\r\n",
        "best_sol, current_value, min_dif = random_search(objetive,num_it)\r\n",
        "print(\"Valor objetivo: %d\" % objetive)\r\n",
        "print(\"Formula para conseguir el valor: \"+best_sol)\r\n",
        "print(\"Valor actual: %d\" % current_value)\r\n",
        "print(\"Diferencia entre el valor objetivo y el actual: %d\" % min_dif)"
      ],
      "execution_count": 171,
      "outputs": [
        {
          "output_type": "stream",
          "text": [
            "El algoritmo ha tardado en ejecutarse: 0.004166841506958008\n",
            "Valor objetivo: 4\n",
            "Formula para conseguir el valor: 9+1/2*6-8\n",
            "Valor actual: 4\n",
            "Diferencia entre el valor objetivo y el actual: 0\n"
          ],
          "name": "stdout"
        }
      ]
    },
    {
      "cell_type": "markdown",
      "metadata": {
        "id": "h4f3tBAESeBf"
      },
      "source": [
        "En cada ejecución de la celda de arriba obtendremos una solución diferente al problema debido a la existencia de diferentes soluciones para el mismo valor a alcanzar y la generación de la solución inicial aleatoria. \r\n",
        "\r\n",
        "En todos los casos, el tiempo de ejecución es menor que en el algoritmo por fuerza bruta implementado en el ejercicio anterior."
      ]
    },
    {
      "cell_type": "markdown",
      "metadata": {
        "id": "RDUW9eRmXz27"
      },
      "source": [
        "### **Ejercicio 7**"
      ]
    },
    {
      "cell_type": "markdown",
      "metadata": {
        "id": "eGDB4K6uk1iN"
      },
      "source": [
        "Calcula la complejidad del algoritmo(*)"
      ]
    },
    {
      "cell_type": "markdown",
      "metadata": {
        "id": "NhpTh_BPk1ms"
      },
      "source": [
        "***Respuesta***"
      ]
    },
    {
      "cell_type": "markdown",
      "metadata": {
        "id": "ouR5Q1mgSXuP"
      },
      "source": [
        "En este caso, la complejidad del algoritmo viene determinada por el número de iteraciones (valor pasado como parámetro en la función). Siendo $n$ el número de iteraciones, el algoritmo basado en búsqueda local tiene una complejidad del orden de $\\in O(n)$"
      ]
    },
    {
      "cell_type": "markdown",
      "metadata": {
        "id": "kwVkonC1X3MS"
      },
      "source": [
        "### **Ejercicio 8**"
      ]
    },
    {
      "cell_type": "markdown",
      "metadata": {
        "id": "3M6QjTsSkmYe"
      },
      "source": [
        "Según el problema (y tenga sentido), diseña un juego de datos de entrada aleatorios"
      ]
    },
    {
      "cell_type": "markdown",
      "metadata": {
        "id": "Jc3_OlyNkvjZ"
      },
      "source": [
        "***Respuesta***"
      ]
    },
    {
      "cell_type": "markdown",
      "metadata": {
        "id": "Xj_PBWRMUl8g"
      },
      "source": [
        "Vamos a generar un total de 10 valores objetivos aleatorios para poder luego aplicar los dos algoritmos implementados en los ejercicios anteriores y así poder compararlos."
      ]
    },
    {
      "cell_type": "code",
      "metadata": {
        "colab": {
          "base_uri": "https://localhost:8080/"
        },
        "id": "_lQtBTTvVCeQ",
        "outputId": "6dcd9e89-de96-4dc0-b8ec-d17a8f6b2f8f"
      },
      "source": [
        "objetive_group = [(random.randint(-100,100)) for _ in range(10)]\r\n",
        "objetive_group"
      ],
      "execution_count": 174,
      "outputs": [
        {
          "output_type": "execute_result",
          "data": {
            "text/plain": [
              "[2, 100, -2, -75, 87, 82, -78, -85, 52, 63]"
            ]
          },
          "metadata": {
            "tags": []
          },
          "execution_count": 174
        }
      ]
    },
    {
      "cell_type": "markdown",
      "metadata": {
        "id": "lW8TEuLUX7BL"
      },
      "source": [
        "### **Ejercicio 9**"
      ]
    },
    {
      "cell_type": "markdown",
      "metadata": {
        "id": "zy5ZROmjlGo1"
      },
      "source": [
        "Aplica el algoritmo al juego de datos generado"
      ]
    },
    {
      "cell_type": "markdown",
      "metadata": {
        "id": "_Cmj-PVylMsa"
      },
      "source": [
        "***Respuesta***"
      ]
    },
    {
      "cell_type": "code",
      "metadata": {
        "colab": {
          "base_uri": "https://localhost:8080/"
        },
        "id": "qq6FI94gVZ7Y",
        "outputId": "181f7250-4a00-485e-c625-ca4f5e664c87"
      },
      "source": [
        "num_it = 5000\r\n",
        "for objetive in objetive_group:\r\n",
        "  print(\"------------------------------------------------------------------\")\r\n",
        "  print('FUERZA BRUTA')\r\n",
        "  sol = brute_force(objetive)\r\n",
        "  print(\"Valor objetivo: %d\" % objetive)\r\n",
        "  print(\"Formula para conseguir el valor: \"+str(sol))\r\n",
        "  print(\"\\n\")\r\n",
        "  print('BÚSQUEDA ALEATORIA')\r\n",
        "  best_sol, current_value, min_dif = random_search(objetive,num_it)\r\n",
        "  print(\"Valor objetivo: %d\" % objetive)\r\n",
        "  print(\"Formula para conseguir el valor: \"+best_sol)\r\n",
        "  print(\"Valor actual: %d\" % current_value)\r\n",
        "  print(\"Diferencia entre el valor objetivo y el actual: %d\" % min_dif)\r\n",
        "  print(\"------------------------------------------------------------------\")"
      ],
      "execution_count": 175,
      "outputs": [
        {
          "output_type": "stream",
          "text": [
            "------------------------------------------------------------------\n",
            "FUERZA BRUTA\n",
            "El algoritmo ha tardado en ejecutarse: 0.009196043014526367\n",
            "Valor objetivo: 2\n",
            "Formula para conseguir el valor: 1+2*8/4-3\n",
            "\n",
            "\n",
            "BÚSQUEDA ALEATORIA\n",
            "El algoritmo ha tardado en ejecutarse: 0.005090236663818359\n",
            "Valor objetivo: 2\n",
            "Formula para conseguir el valor: 1+8/4*5-9\n",
            "Valor actual: 2\n",
            "Diferencia entre el valor objetivo y el actual: 0\n",
            "------------------------------------------------------------------\n",
            "------------------------------------------------------------------\n",
            "FUERZA BRUTA\n",
            "No se ha encontrado solución para conseguir el número\n",
            "El algoritmo ha tardado en ejecutarse: 2.8521857261657715\n",
            "Valor objetivo: 100\n",
            "Formula para conseguir el valor: None\n",
            "\n",
            "\n",
            "BÚSQUEDA ALEATORIA\n",
            "No se ha encontrado solución para conseguir el número, si desea incremente el número de iteraciones\n",
            "El algoritmo ha tardado en ejecutarse: 0.11323261260986328\n",
            "Valor objetivo: 100\n",
            "Formula para conseguir el valor: None\n",
            "Valor actual: 0\n",
            "Diferencia entre el valor objetivo y el actual: 0\n",
            "------------------------------------------------------------------\n",
            "------------------------------------------------------------------\n",
            "FUERZA BRUTA\n",
            "El algoritmo ha tardado en ejecutarse: 0.004105329513549805\n",
            "Valor objetivo: -2\n",
            "Formula para conseguir el valor: 1+2*3/6-4\n",
            "\n",
            "\n",
            "BÚSQUEDA ALEATORIA\n",
            "El algoritmo ha tardado en ejecutarse: 0.0035729408264160156\n",
            "Valor objetivo: -2\n",
            "Formula para conseguir el valor: 7+9/3-6*2\n",
            "Valor actual: -2\n",
            "Diferencia entre el valor objetivo y el actual: 0\n",
            "------------------------------------------------------------------\n",
            "------------------------------------------------------------------\n",
            "FUERZA BRUTA\n",
            "No se ha encontrado solución para conseguir el número\n",
            "El algoritmo ha tardado en ejecutarse: 2.894078254699707\n",
            "Valor objetivo: -75\n",
            "Formula para conseguir el valor: None\n",
            "\n",
            "\n",
            "BÚSQUEDA ALEATORIA\n",
            "No se ha encontrado solución para conseguir el número, si desea incremente el número de iteraciones\n",
            "El algoritmo ha tardado en ejecutarse: 0.08660531044006348\n",
            "Valor objetivo: -75\n",
            "Formula para conseguir el valor: None\n",
            "Valor actual: 0\n",
            "Diferencia entre el valor objetivo y el actual: 0\n",
            "------------------------------------------------------------------\n",
            "------------------------------------------------------------------\n",
            "FUERZA BRUTA\n",
            "No se ha encontrado solución para conseguir el número\n",
            "El algoritmo ha tardado en ejecutarse: 2.939723253250122\n",
            "Valor objetivo: 87\n",
            "Formula para conseguir el valor: None\n",
            "\n",
            "\n",
            "BÚSQUEDA ALEATORIA\n",
            "No se ha encontrado solución para conseguir el número, si desea incremente el número de iteraciones\n",
            "El algoritmo ha tardado en ejecutarse: 0.08713793754577637\n",
            "Valor objetivo: 87\n",
            "Formula para conseguir el valor: None\n",
            "Valor actual: 0\n",
            "Diferencia entre el valor objetivo y el actual: 0\n",
            "------------------------------------------------------------------\n",
            "------------------------------------------------------------------\n",
            "FUERZA BRUTA\n",
            "No se ha encontrado solución para conseguir el número\n",
            "El algoritmo ha tardado en ejecutarse: 2.879849433898926\n",
            "Valor objetivo: 82\n",
            "Formula para conseguir el valor: None\n",
            "\n",
            "\n",
            "BÚSQUEDA ALEATORIA\n",
            "No se ha encontrado solución para conseguir el número, si desea incremente el número de iteraciones\n",
            "El algoritmo ha tardado en ejecutarse: 0.08618688583374023\n",
            "Valor objetivo: 82\n",
            "Formula para conseguir el valor: None\n",
            "Valor actual: 0\n",
            "Diferencia entre el valor objetivo y el actual: 0\n",
            "------------------------------------------------------------------\n",
            "------------------------------------------------------------------\n",
            "FUERZA BRUTA\n",
            "No se ha encontrado solución para conseguir el número\n",
            "El algoritmo ha tardado en ejecutarse: 2.9060826301574707\n",
            "Valor objetivo: -78\n",
            "Formula para conseguir el valor: None\n",
            "\n",
            "\n",
            "BÚSQUEDA ALEATORIA\n",
            "No se ha encontrado solución para conseguir el número, si desea incremente el número de iteraciones\n",
            "El algoritmo ha tardado en ejecutarse: 0.08647799491882324\n",
            "Valor objetivo: -78\n",
            "Formula para conseguir el valor: None\n",
            "Valor actual: 0\n",
            "Diferencia entre el valor objetivo y el actual: 0\n",
            "------------------------------------------------------------------\n",
            "------------------------------------------------------------------\n",
            "FUERZA BRUTA\n",
            "No se ha encontrado solución para conseguir el número\n",
            "El algoritmo ha tardado en ejecutarse: 2.868618965148926\n",
            "Valor objetivo: -85\n",
            "Formula para conseguir el valor: None\n",
            "\n",
            "\n",
            "BÚSQUEDA ALEATORIA\n",
            "No se ha encontrado solución para conseguir el número, si desea incremente el número de iteraciones\n",
            "El algoritmo ha tardado en ejecutarse: 0.08718204498291016\n",
            "Valor objetivo: -85\n",
            "Formula para conseguir el valor: None\n",
            "Valor actual: 0\n",
            "Diferencia entre el valor objetivo y el actual: 0\n",
            "------------------------------------------------------------------\n",
            "------------------------------------------------------------------\n",
            "FUERZA BRUTA\n",
            "El algoritmo ha tardado en ejecutarse: 0.36785268783569336\n",
            "Valor objetivo: 52\n",
            "Formula para conseguir el valor: 2+6*9-4/1\n",
            "\n",
            "\n",
            "BÚSQUEDA ALEATORIA\n",
            "El algoritmo ha tardado en ejecutarse: 0.0015439987182617188\n",
            "Valor objetivo: 52\n",
            "Formula para conseguir el valor: 6*9/1-4+2\n",
            "Valor actual: 52\n",
            "Diferencia entre el valor objetivo y el actual: 0\n",
            "------------------------------------------------------------------\n",
            "------------------------------------------------------------------\n",
            "FUERZA BRUTA\n",
            "El algoritmo ha tardado en ejecutarse: 0.3995242118835449\n",
            "Valor objetivo: 63\n",
            "Formula para conseguir el valor: 2+7*9-6/3\n",
            "\n",
            "\n",
            "BÚSQUEDA ALEATORIA\n",
            "El algoritmo ha tardado en ejecutarse: 0.0007526874542236328\n",
            "Valor objetivo: 63\n",
            "Formula para conseguir el valor: 9*7-2+8/4\n",
            "Valor actual: 63\n",
            "Diferencia entre el valor objetivo y el actual: 0\n",
            "------------------------------------------------------------------\n"
          ],
          "name": "stdout"
        }
      ]
    },
    {
      "cell_type": "markdown",
      "metadata": {
        "id": "SG3Og41TE486"
      },
      "source": [
        "Como se puede observar en las ejecuciones, el algoritmo de búsqueda aleatoria tarda menos tiempo en ejecutarse que el de fuerza bruta, consume menos recursos computacionales y las diferencias a la hora de obtener la ecuación que genera el número deseado son mínimas."
      ]
    },
    {
      "cell_type": "markdown",
      "metadata": {
        "id": "3Pk-YdvXYBlS"
      },
      "source": [
        "### **Ejercicio 10**"
      ]
    },
    {
      "cell_type": "markdown",
      "metadata": {
        "id": "eTFWUJQrtGcv"
      },
      "source": [
        "Enumera las referencias que has utilizado(si ha sido necesario) para llevar a cabo el trabajo"
      ]
    },
    {
      "cell_type": "markdown",
      "metadata": {
        "id": "YKQ_mRBttWsP"
      },
      "source": [
        "***Respuesta***"
      ]
    },
    {
      "cell_type": "markdown",
      "metadata": {
        "id": "kI1PB8Z3XwzA"
      },
      "source": [
        "- Apuntes de la asignatura \"Algoritmos de Optimización\" de la ***Universidad Internacional de Valencia***\r\n",
        "- Apuntes de la asignatura \"Algoritmica y Complejidad\" de la ***Universidad Politénica de Madrid***\r\n",
        "- Wikipedia"
      ]
    }
  ]
}